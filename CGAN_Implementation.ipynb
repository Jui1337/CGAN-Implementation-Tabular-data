{
  "nbformat": 4,
  "nbformat_minor": 0,
  "metadata": {
    "colab": {
      "provenance": []
    },
    "kernelspec": {
      "name": "python3",
      "display_name": "Python 3"
    },
    "language_info": {
      "name": "python"
    }
  },
  "cells": [
    {
      "cell_type": "markdown",
      "source": [
        "Import necessary libraries"
      ],
      "metadata": {
        "id": "SPrMJVmPPC6J"
      }
    },
    {
      "cell_type": "code",
      "source": [
        "import numpy as np\n",
        "import pandas as pd\n",
        "import matplotlib.pyplot as plt\n",
        "import seaborn as sns\n",
        "from sklearn import preprocessing\n",
        "from sklearn.preprocessing import StandardScaler\n",
        "from sklearn.metrics import precision_score, recall_score, f1_score,accuracy_score, balanced_accuracy_score,classification_report, confusion_matrix\n",
        "from sklearn.model_selection import KFold, GridSearchCV\n",
        "from sklearn.model_selection import train_test_split\n",
        "\n",
        "import lightgbm as lgb\n",
        "import tensorflow as tf\n",
        "from keras.optimizers import Adam\n",
        "from tensorflow.keras.layers import Input, Dense, Reshape, Flatten, Dropout, multiply, Concatenate\n",
        "from tensorflow.keras.layers import BatchNormalization, Activation, Embedding, ZeroPadding2D, LeakyReLU\n",
        "from tensorflow.keras.models import Sequential, Model\n",
        "from tensorflow.keras.initializers import RandomNormal\n",
        "import tensorflow.keras.backend as K\n",
        "from sklearn.utils import shuffle\n",
        "\n",
        "np.random.seed(1635848)"
      ],
      "metadata": {
        "id": "D2KhTCAEPAub"
      },
      "execution_count": null,
      "outputs": []
    },
    {
      "cell_type": "markdown",
      "source": [
        "Load the csv file"
      ],
      "metadata": {
        "id": "nm5fQGWlOcxq"
      }
    },
    {
      "cell_type": "code",
      "source": [
        "csv_file = \"/content/drive/MyDrive/Customer_Segmentation.csv\"\n",
        "# Load the CSV file into a DataFrame, explicitly specifying the delimiter as \",\"\n",
        "df = pd.read_csv(csv_file, delimiter=\",\")\n",
        "\n",
        "labels = list(df.columns)\n",
        "# displaying the list of column names\n",
        "print('List of column names : ',\n",
        "      labels)\n",
        "\n",
        "print(df.head())"
      ],
      "metadata": {
        "id": "-z10ULIrDf40",
        "colab": {
          "base_uri": "https://localhost:8080/"
        },
        "outputId": "ea9c2606-c593-4d75-e9ec-f1b5f3153de5"
      },
      "execution_count": null,
      "outputs": [
        {
          "output_type": "stream",
          "name": "stdout",
          "text": [
            "List of column names :  ['first_name', 'last_name', 'title', 'gender', 'email', 'city', 'country', 'country_code', 'latitude', 'longitude', 'phone', 'street_address', 'street_name', 'street_number', 'street_suffix', 'time_zone', 'company_name', 'department', 'job_title', 'language', 'university', 'linkedin_skill', 'ip_address']\n",
            "  first_name last_name      title   gender                   email  \\\n",
            "0  Priscella   Pollett  Honorable  Agender   ppollett0@foxnews.com   \n",
            "1        Ana      Onge         Mr     Male          aonge1@fda.gov   \n",
            "2      Butch     Rawls        Mrs     Male  brawls2@slideshare.net   \n",
            "3     Ambros   Fairrie        Rev     Male   afairrie3@reuters.com   \n",
            "4    Gaylene   Titcomb  Honorable   Female    gtitcomb4@dyndns.org   \n",
            "\n",
            "           city   country country_code   latitude   longitude  ...  \\\n",
            "0       Sesheke    Zambia           ZM -17.473886   24.295514  ...   \n",
            "1  Querecotillo      Peru           PE  -4.838304  -80.648215  ...   \n",
            "2       Licupis      Peru           PE  -6.424052  -79.242648  ...   \n",
            "3        Yonghe     China           CN  36.759507  110.632006  ...   \n",
            "4     Wang Yang  Thailand           TH  17.074088  104.449040  ...   \n",
            "\n",
            "  street_number street_suffix      time_zone  company_name   department  \\\n",
            "0         90004      Crossing  Africa/Lusaka          Omba      Support   \n",
            "1             9        Center   America/Lima       Cogidoo        Sales   \n",
            "2          5104         Point   America/Lima      Edgewire      Support   \n",
            "3             8        Center    Asia/Harbin      Digitube      Support   \n",
            "4           994         Trail   Asia/Bangkok         Quaxo  Engineering   \n",
            "\n",
            "              job_title    language                                university  \\\n",
            "0      Internal Auditor  Indonesian                      University of Zambia   \n",
            "1  Compensation Analyst      Fijian  Universidad Nacional de San Antonio Abad   \n",
            "2       Health Coach II    Gujarati        Universidad Nacional de San Martín   \n",
            "3       General Manager  Belarusian                         Fuzhou University   \n",
            "4      Internal Auditor  Papiamento     Mahachulalongkorn Buddhist University   \n",
            "\n",
            "        linkedin_skill      ip_address  \n",
            "0            Lifestyle  129.60.144.253  \n",
            "1  Healthcare Industry     100.2.67.41  \n",
            "2           Visual SVN   48.161.197.47  \n",
            "3      Nanofabrication  36.188.226.116  \n",
            "4                  AQL    181.24.84.57  \n",
            "\n",
            "[5 rows x 23 columns]\n"
          ]
        }
      ]
    },
    {
      "cell_type": "markdown",
      "source": [
        "Pre-processing"
      ],
      "metadata": {
        "id": "sCQAh-whOgIq"
      }
    },
    {
      "cell_type": "code",
      "source": [
        "df = df.drop(columns=['company_name','department','job_title','university','language','linkedin_skill','ip_address'])\n",
        "random_ages = np.random.randint(10, 91, size=len(df))\n",
        "# Add the 'age' column to the DataFrame\n",
        "df['age'] = random_ages\n",
        "df.head()\n",
        "print(df.dtypes)\n"
      ],
      "metadata": {
        "id": "WLGrl3hyD3sn",
        "colab": {
          "base_uri": "https://localhost:8080/"
        },
        "outputId": "04bca907-b38b-4de0-89c5-77ff7a3a5c13"
      },
      "execution_count": null,
      "outputs": [
        {
          "output_type": "stream",
          "name": "stdout",
          "text": [
            "first_name         object\n",
            "last_name          object\n",
            "title              object\n",
            "gender             object\n",
            "email              object\n",
            "city               object\n",
            "country            object\n",
            "country_code       object\n",
            "latitude          float64\n",
            "longitude         float64\n",
            "phone              object\n",
            "street_address     object\n",
            "street_name        object\n",
            "street_number       int64\n",
            "street_suffix      object\n",
            "time_zone          object\n",
            "age                 int64\n",
            "dtype: object\n"
          ]
        }
      ]
    },
    {
      "cell_type": "markdown",
      "source": [
        "Pre-processing"
      ],
      "metadata": {
        "id": "_94IyIr0OicQ"
      }
    },
    {
      "cell_type": "code",
      "source": [
        "from sklearn import preprocessing\n",
        "\n",
        "# Initialize LabelEncoder\n",
        "le = preprocessing.LabelEncoder()\n",
        "\n",
        "# Specify the categorical columns you want to encode\n",
        "categorical_columns = ['first_name', 'last_name', 'title', 'gender', 'email', 'city', 'country', 'country_code', 'phone', 'street_address', 'street_name', 'street_suffix', 'time_zone']\n",
        "\n",
        "# Apply Label Encoding to the specified columns\n",
        "for col in categorical_columns:\n",
        "    df[col] = le.fit_transform(df[col].astype(str))\n",
        "\n",
        "print(df.head())"
      ],
      "metadata": {
        "colab": {
          "base_uri": "https://localhost:8080/"
        },
        "id": "OXZk6VqTB-gw",
        "outputId": "abb616b9-4097-4039-cc9b-78f3311e8888"
      },
      "execution_count": null,
      "outputs": [
        {
          "output_type": "stream",
          "name": "stdout",
          "text": [
            "   first_name  last_name  title  gender  email   city  country  country_code  \\\n",
            "0        6552      22982      1       0  39460  18890      233           232   \n",
            "1         373      21485      2       5   2966  17213      166           164   \n",
            "2        1243      23749      3       5   6785  11579      166           164   \n",
            "3         347       9509      5       5   1351  23905       42            44   \n",
            "4        3208      28422      1       2  21330  22790      211           205   \n",
            "\n",
            "    latitude   longitude  phone  street_address  street_name  street_number  \\\n",
            "0 -17.473886   24.295514   7008           47646          188          90004   \n",
            "1  -4.838304  -80.648215  31169            4530          174              9   \n",
            "2  -6.424052  -79.242648  12881            4942          141           5104   \n",
            "3  36.759507  110.632006  31925           26844           18              8   \n",
            "4  17.074088  104.449040  21417           42699           84            994   \n",
            "\n",
            "   street_suffix  time_zone  age  \n",
            "0              5         35   78  \n",
            "1              2        108   77  \n",
            "2             15        108   35  \n",
            "3              2        177   71  \n",
            "4             19        165   64  \n"
          ]
        }
      ]
    },
    {
      "cell_type": "markdown",
      "source": [
        "Print statements for reference"
      ],
      "metadata": {
        "id": "Qw4B3vGzOk7d"
      }
    },
    {
      "cell_type": "code",
      "source": [
        "# Count of people under 60\n",
        "count_under_60 = df[df['age'] < 60].shape[0]\n",
        "\n",
        "# Count of people above or equal to 60\n",
        "count_above_60 = df[df['age'] >= 60].shape[0]\n",
        "\n",
        "print(\"Count of people under 60:\", count_under_60)\n",
        "print(\"Count of people above or equal to 60:\", count_above_60)\n"
      ],
      "metadata": {
        "colab": {
          "base_uri": "https://localhost:8080/"
        },
        "id": "Lf9fIXCsNQdk",
        "outputId": "9229a40d-4be8-48f0-b04c-5449315bae80"
      },
      "execution_count": null,
      "outputs": [
        {
          "output_type": "stream",
          "name": "stdout",
          "text": [
            "Count of people under 60: 31514\n",
            "Count of people above or equal to 60: 19486\n"
          ]
        }
      ]
    },
    {
      "cell_type": "markdown",
      "source": [
        "Train and test the original dataset"
      ],
      "metadata": {
        "id": "DsTH_mV2OpHe"
      }
    },
    {
      "cell_type": "code",
      "source": [
        "from sklearn.model_selection import GridSearchCV\n",
        "from sklearn.pipeline import make_pipeline\n",
        "from sklearn.preprocessing import StandardScaler\n",
        "import lightgbm as lgb\n",
        "import logging\n",
        "\n",
        "# Set logging level to ERROR to suppress warnings\n",
        "logging.getLogger('lightgbm').setLevel(logging.ERROR)\n",
        "\n",
        "df['above_60'] = (df['age'] > 60).astype(int)\n",
        "\n",
        "# Scaling features using StandardScaler\n",
        "scaler = StandardScaler()\n",
        "X_scaled = scaler.fit_transform(df.drop(columns=['above_60', 'age']))\n",
        "y = df['above_60']\n",
        "\n",
        "# Splitting data into train and test sets\n",
        "X_train, X_test, y_train, y_test = train_test_split(X_scaled, y, test_size=0.3)\n",
        "\n",
        "# Classifying using LGBMClassifier with GridSearchCV for hyperparameter tuning\n",
        "\n",
        "# Specify hyperparameters\n",
        "params = {\n",
        "    'num_leaves': 30,\n",
        "    'max_depth':1,\n",
        "    'learning_rate': 0.35,\n",
        "    'n_estimators': 150,\n",
        "    'feature_fraction': 0.35,\n",
        "}\n",
        "\n",
        "lgb_classifier = lgb.LGBMClassifier(**params)\n",
        "\n",
        "# Train the model\n",
        "lgb_classifier.fit(X_train, y_train)\n",
        "\n",
        "# Make predictions\n",
        "y_pred = lgb_classifier.predict(X_test)\n",
        "\n",
        "# Evaluation\n",
        "report_1 = classification_report(y_test, y_pred)\n",
        "a1 = accuracy_score(y_test, y_pred)\n",
        "\n",
        "print(report_1)\n",
        "print(\"Accuracy:\", a1)\n"
      ],
      "metadata": {
        "colab": {
          "base_uri": "https://localhost:8080/"
        },
        "id": "NFGSvNw107Zr",
        "outputId": "445ac687-dc66-4460-f3c7-fce318701764"
      },
      "execution_count": null,
      "outputs": [
        {
          "output_type": "stream",
          "name": "stdout",
          "text": [
            "[LightGBM] [Warning] feature_fraction is set=0.35, colsample_bytree=1.0 will be ignored. Current value: feature_fraction=0.35\n",
            "[LightGBM] [Warning] feature_fraction is set=0.35, colsample_bytree=1.0 will be ignored. Current value: feature_fraction=0.35\n",
            "[LightGBM] [Info] Number of positive: 13307, number of negative: 22393\n",
            "[LightGBM] [Info] Auto-choosing col-wise multi-threading, the overhead of testing was 0.008071 seconds.\n",
            "You can set `force_col_wise=true` to remove the overhead.\n",
            "[LightGBM] [Info] Total Bins 3213\n",
            "[LightGBM] [Info] Number of data points in the train set: 35700, number of used features: 16\n",
            "[LightGBM] [Info] [binary:BoostFromScore]: pavg=0.372745 -> initscore=-0.520458\n",
            "[LightGBM] [Info] Start training from score -0.520458\n",
            "[LightGBM] [Warning] feature_fraction is set=0.35, colsample_bytree=1.0 will be ignored. Current value: feature_fraction=0.35\n",
            "              precision    recall  f1-score   support\n",
            "\n",
            "           0       0.64      1.00      0.78      9779\n",
            "           1       0.00      0.00      0.00      5521\n",
            "\n",
            "    accuracy                           0.64     15300\n",
            "   macro avg       0.32      0.50      0.39     15300\n",
            "weighted avg       0.41      0.64      0.50     15300\n",
            "\n",
            "Accuracy: 0.6391503267973856\n"
          ]
        },
        {
          "output_type": "stream",
          "name": "stderr",
          "text": [
            "/usr/local/lib/python3.10/dist-packages/sklearn/metrics/_classification.py:1344: UndefinedMetricWarning: Precision and F-score are ill-defined and being set to 0.0 in labels with no predicted samples. Use `zero_division` parameter to control this behavior.\n",
            "  _warn_prf(average, modifier, msg_start, len(result))\n",
            "/usr/local/lib/python3.10/dist-packages/sklearn/metrics/_classification.py:1344: UndefinedMetricWarning: Precision and F-score are ill-defined and being set to 0.0 in labels with no predicted samples. Use `zero_division` parameter to control this behavior.\n",
            "  _warn_prf(average, modifier, msg_start, len(result))\n",
            "/usr/local/lib/python3.10/dist-packages/sklearn/metrics/_classification.py:1344: UndefinedMetricWarning: Precision and F-score are ill-defined and being set to 0.0 in labels with no predicted samples. Use `zero_division` parameter to control this behavior.\n",
            "  _warn_prf(average, modifier, msg_start, len(result))\n"
          ]
        }
      ]
    },
    {
      "cell_type": "markdown",
      "source": [
        "Poison the original dataset and train and test it"
      ],
      "metadata": {
        "id": "opO7PwHhOuls"
      }
    },
    {
      "cell_type": "code",
      "source": [
        "# Step 3: Generate and add malicious data points to the training set\n",
        "# Example: Add random noise to a subset of the training data\n",
        "num_poisoned_samples = 25  # Number of malicious data points to add\n",
        "num_features = X_train.shape[1]\n",
        "\n",
        "X_poisoned = X_train.copy()\n",
        "for i in range(num_poisoned_samples):\n",
        "    idx = np.random.randint(0, len(X_poisoned))\n",
        "    noise = np.random.normal(0, 0.1, num_features)  # Random Gaussian noise\n",
        "    X_poisoned[idx] += noise\n",
        "\n",
        "# Step 4: Generate corresponding labels for the malicious data points\n",
        "y_poisoned = np.ones(num_poisoned_samples)  # Assuming all added data points are malicious (label 1)\n",
        "\n",
        "# Step 5: Retrain the model on the poisoned training set\n",
        "\n",
        "# Concatenate the original training set with the poisoned data\n",
        "X_train_poisoned = np.concatenate([X_train, X_poisoned])\n",
        "# Create labels for the poisoned data (assuming binary classification)\n",
        "y_train_poisoned = np.concatenate([y_train, np.ones(len(X_poisoned))])\n",
        "\n",
        "# Verify the shapes of X_train_poisoned and y_train_poisoned\n",
        "print(\"Shape of X_train_poisoned:\", X_train_poisoned.shape)\n",
        "print(\"Shape of y_train_poisoned:\", y_train_poisoned.shape)\n",
        "\n",
        "# Specify hyperparameters\n",
        "params = {\n",
        "    'num_leaves': 30,\n",
        "    'max_depth':1,\n",
        "    'learning_rate': 0.35,\n",
        "    'n_estimators': 150,\n",
        "    'feature_fraction': 0.35,\n",
        "    # Add other hyperparameters as needed\n",
        "}\n",
        "\n",
        "lgb_2 = lgb.LGBMClassifier(**params)\n",
        "\n",
        "# Train the model\n",
        "lgb_2.fit(X_train_poisoned, y_train_poisoned)\n",
        "\n",
        "# Make predictions\n",
        "y_pred_poisoned = lgb_2.predict(X_test)\n",
        "\n",
        "report_poisoned1 = classification_report(y_test, y_pred_poisoned)\n",
        "a2 = accuracy_score(y_test, y_pred_poisoned)\n",
        "\n",
        "print(\"Report on test set after data poisoning:\")\n",
        "print(report_poisoned1)"
      ],
      "metadata": {
        "colab": {
          "base_uri": "https://localhost:8080/"
        },
        "id": "AeHVyBXyt2oX",
        "outputId": "433fc22e-06fa-4a86-dc8b-7f1584ab5a99"
      },
      "execution_count": null,
      "outputs": [
        {
          "output_type": "stream",
          "name": "stdout",
          "text": [
            "Shape of X_train_poisoned: (71400, 16)\n",
            "Shape of y_train_poisoned: (71400,)\n",
            "[LightGBM] [Warning] feature_fraction is set=0.35, colsample_bytree=1.0 will be ignored. Current value: feature_fraction=0.35\n",
            "[LightGBM] [Warning] feature_fraction is set=0.35, colsample_bytree=1.0 will be ignored. Current value: feature_fraction=0.35\n",
            "[LightGBM] [Info] Number of positive: 49007, number of negative: 22393\n",
            "[LightGBM] [Info] Auto-choosing col-wise multi-threading, the overhead of testing was 0.008834 seconds.\n",
            "You can set `force_col_wise=true` to remove the overhead.\n",
            "[LightGBM] [Info] Total Bins 3262\n",
            "[LightGBM] [Info] Number of data points in the train set: 71400, number of used features: 16\n",
            "[LightGBM] [Info] [binary:BoostFromScore]: pavg=0.686373 -> initscore=0.783215\n",
            "[LightGBM] [Info] Start training from score 0.783215\n",
            "[LightGBM] [Warning] feature_fraction is set=0.35, colsample_bytree=1.0 will be ignored. Current value: feature_fraction=0.35\n",
            "Report on test set after data poisoning:\n",
            "              precision    recall  f1-score   support\n",
            "\n",
            "           0       0.00      0.00      0.00      9779\n",
            "           1       0.36      1.00      0.53      5521\n",
            "\n",
            "    accuracy                           0.36     15300\n",
            "   macro avg       0.18      0.50      0.27     15300\n",
            "weighted avg       0.13      0.36      0.19     15300\n",
            "\n"
          ]
        },
        {
          "output_type": "stream",
          "name": "stderr",
          "text": [
            "/usr/local/lib/python3.10/dist-packages/sklearn/metrics/_classification.py:1344: UndefinedMetricWarning: Precision and F-score are ill-defined and being set to 0.0 in labels with no predicted samples. Use `zero_division` parameter to control this behavior.\n",
            "  _warn_prf(average, modifier, msg_start, len(result))\n",
            "/usr/local/lib/python3.10/dist-packages/sklearn/metrics/_classification.py:1344: UndefinedMetricWarning: Precision and F-score are ill-defined and being set to 0.0 in labels with no predicted samples. Use `zero_division` parameter to control this behavior.\n",
            "  _warn_prf(average, modifier, msg_start, len(result))\n",
            "/usr/local/lib/python3.10/dist-packages/sklearn/metrics/_classification.py:1344: UndefinedMetricWarning: Precision and F-score are ill-defined and being set to 0.0 in labels with no predicted samples. Use `zero_division` parameter to control this behavior.\n",
            "  _warn_prf(average, modifier, msg_start, len(result))\n"
          ]
        }
      ]
    },
    {
      "cell_type": "markdown",
      "source": [
        "Define the CGAN algorithm"
      ],
      "metadata": {
        "id": "LoXRpjCcO5jC"
      }
    },
    {
      "cell_type": "code",
      "source": [
        "class cGAN():\n",
        "\n",
        "    \"\"\"\n",
        "    Class containing 3 methods (and __init__): generator, discriminator and train.\n",
        "    Generator is trained using random noise and label as inputs. Discriminator is trained\n",
        "    using real/fake samples and labels as inputs.\n",
        "    \"\"\"\n",
        "\n",
        "    def __init__(self,latent_dim=115, out_shape=16):\n",
        "\n",
        "        self.latent_dim = latent_dim\n",
        "        self.out_shape = out_shape\n",
        "        self.num_classes = 2\n",
        "        # using Adam as our optimizer\n",
        "        optimizer = tf.keras.optimizers.legacy.Adam(0.0003, 0.2)\n",
        "\n",
        "        # building the discriminator\n",
        "        self.discriminator = self.discriminator()\n",
        "        self.discriminator.compile(loss=['binary_crossentropy'],\n",
        "                                   optimizer=optimizer,\n",
        "                                   metrics=['accuracy'])\n",
        "\n",
        "        # building the generator\n",
        "        self.generator = self.generator()\n",
        "\n",
        "        noise = Input(shape=(self.latent_dim,))\n",
        "        label = Input(shape=(1,))\n",
        "        gen_samples = self.generator([noise, label])\n",
        "\n",
        "        # we don't train discriminator when training generator\n",
        "        self.discriminator.trainable = False\n",
        "        valid = self.discriminator([gen_samples, label])\n",
        "\n",
        "        # combining both models\n",
        "        self.combined = Model([noise, label], valid)\n",
        "        self.combined.compile(loss=['binary_crossentropy'],\n",
        "                              optimizer=optimizer,\n",
        "                             metrics=['accuracy'])\n",
        "\n",
        "\n",
        "    def generator(self):\n",
        "        init = RandomNormal(mean=0.0, stddev=0.045)\n",
        "        model = Sequential()\n",
        "\n",
        "        model.add(Dense(128, input_dim=self.latent_dim))\n",
        "        model.add(Dropout(0.2))\n",
        "        model.add(LeakyReLU(alpha=0.2))\n",
        "        model.add(BatchNormalization(momentum=0.8))\n",
        "\n",
        "        model.add(Dense(256))\n",
        "        model.add(Dropout(0.2))\n",
        "        model.add(LeakyReLU(alpha=0.2))\n",
        "        model.add(BatchNormalization(momentum=0.8))\n",
        "\n",
        "        model.add(Dense(512))\n",
        "        model.add(Dropout(0.2))\n",
        "        model.add(LeakyReLU(alpha=0.2))\n",
        "        model.add(BatchNormalization(momentum=0.8))\n",
        "\n",
        "        model.add(Dense(self.out_shape, activation='tanh'))\n",
        "\n",
        "        noise = Input(shape=(self.latent_dim,))\n",
        "        label = Input(shape=(1,), dtype='int32')\n",
        "        label_embedding = Flatten()(Embedding(self.num_classes, self.latent_dim)(label))\n",
        "\n",
        "        model_input = multiply([noise, label_embedding])\n",
        "        gen_sample = model(model_input)\n",
        "\n",
        "        return Model([noise, label], gen_sample, name=\"Generator\")\n",
        "\n",
        "\n",
        "    def discriminator(self):\n",
        "        init = RandomNormal(mean=0.0, stddev=0.045)\n",
        "        model = Sequential()\n",
        "\n",
        "        model.add(Dense(512, input_dim=self.out_shape, kernel_initializer=init))\n",
        "        model.add(LeakyReLU(alpha=0.2))\n",
        "\n",
        "        model.add(Dense(256, kernel_initializer=init))\n",
        "        model.add(LeakyReLU(alpha=0.2))\n",
        "        model.add(Dropout(0.4))\n",
        "\n",
        "        model.add(Dense(128, kernel_initializer=init))\n",
        "        model.add(LeakyReLU(alpha=0.2))\n",
        "        model.add(Dropout(0.4))\n",
        "\n",
        "        model.add(Dense(1, activation='sigmoid'))\n",
        "\n",
        "        gen_sample = Input(shape=(self.out_shape,))\n",
        "        label = Input(shape=(1,), dtype='int32')\n",
        "        label_embedding = Flatten()(Embedding(self.num_classes, self.out_shape)(label))\n",
        "\n",
        "        model_input = multiply([gen_sample, label_embedding])\n",
        "        validity = model(model_input)\n",
        "\n",
        "        return Model(inputs=[gen_sample, label], outputs=validity, name=\"Discriminator\")\n",
        "\n",
        "\n",
        "    def train(self, X_train, y_train, pos_index, neg_index, epochs, sampling=False, batch_size=32, sample_interval=100, plot=True):\n",
        "\n",
        "        # though not recommended, defining losses as global helps as in analysing our cgan out of the class\n",
        "        global G_losses\n",
        "        global D_losses\n",
        "\n",
        "        G_losses = []\n",
        "        D_losses = []\n",
        "        # Adversarial ground truths\n",
        "        valid = np.ones((batch_size, 1))\n",
        "        fake = np.zeros((batch_size, 1))\n",
        "\n",
        "        for epoch in range(epochs):\n",
        "\n",
        "            # if sampling==True --> train discriminator with 8 sample from postivite class and rest with negative class\n",
        "            if sampling:\n",
        "                idx1 = np.random.choice(pos_index, 8)\n",
        "                idx0 = np.random.choice(neg_index, batch_size-8)\n",
        "                idx = np.concatenate((idx1, idx0))\n",
        "\n",
        "            # if sampling!=True --> train discriminator using random instances in batches of 30\n",
        "            else:\n",
        "                idx = np.random.choice(len(y_train), batch_size)\n",
        "            samples, labels = X_train[idx], y_train[idx]\n",
        "            samples, labels = shuffle(samples, labels)\n",
        "\n",
        "            # Sample noise as generator input\n",
        "            noise = np.random.normal(0, 1, (batch_size, self.latent_dim))\n",
        "            gen_samples = self.generator.predict([noise, labels])\n",
        "\n",
        "            # label smoothing\n",
        "            if epoch < epochs//1.5:\n",
        "                valid_smooth = (valid+0.1)-(np.random.random(valid.shape)*0.1)\n",
        "                fake_smooth = (fake-0.1)+(np.random.random(fake.shape)*0.1)\n",
        "            else:\n",
        "                valid_smooth = valid\n",
        "                fake_smooth = fake\n",
        "\n",
        "            # Train the discriminator\n",
        "            self.discriminator.trainable = True\n",
        "            d_loss_real = self.discriminator.train_on_batch([samples, labels], valid_smooth)\n",
        "            d_loss_fake = self.discriminator.train_on_batch([gen_samples, labels], fake_smooth)\n",
        "            d_loss = 0.5 * np.add(d_loss_real, d_loss_fake)\n",
        "\n",
        "            # Train Generator\n",
        "            self.discriminator.trainable = False\n",
        "            sampled_labels = np.random.randint(0, 2, batch_size).reshape(-1, 1)\n",
        "            # Train the generator\n",
        "            g_loss = self.combined.train_on_batch([noise, sampled_labels], valid)\n",
        "\n",
        "            if (epoch+1)%sample_interval==0:\n",
        "                print('[%d/%d]\\tLoss_D: %.4f\\tLoss_G: %.4f'\n",
        "                  % (epoch, epochs, d_loss[0], g_loss[0]))\n",
        "            G_losses.append(g_loss[0])\n",
        "            D_losses.append(d_loss[0])\n",
        "            if plot:\n",
        "                if epoch+1==epochs:\n",
        "                    plt.figure(figsize=(10,5))\n",
        "                    plt.title(\"Generator and Discriminator Loss\")\n",
        "                    plt.plot(G_losses,label=\"G\")\n",
        "                    plt.plot(D_losses,label=\"D\")\n",
        "                    plt.xlabel(\"iterations\")\n",
        "                    plt.ylabel(\"Loss\")\n",
        "                    plt.legend()\n",
        "                    plt.show()"
      ],
      "metadata": {
        "id": "aUO4KmK9RPUF"
      },
      "execution_count": null,
      "outputs": []
    },
    {
      "cell_type": "markdown",
      "source": [
        "Complie CGAN"
      ],
      "metadata": {
        "id": "Jf8iV9nAO9eA"
      }
    },
    {
      "cell_type": "code",
      "source": [
        "cgan = cGAN()"
      ],
      "metadata": {
        "colab": {
          "base_uri": "https://localhost:8080/"
        },
        "id": "5AvyiunJRtc1",
        "outputId": "adcdf1b8-7c10-45d8-ce5a-02737e7a1b79"
      },
      "execution_count": null,
      "outputs": [
        {
          "output_type": "stream",
          "name": "stderr",
          "text": [
            "/usr/local/lib/python3.10/dist-packages/keras/src/initializers/initializers.py:120: UserWarning: The initializer RandomNormal is unseeded and being called multiple times, which will return identical values each time (even if the initializer is unseeded). Please update your code to provide a seed to the initializer, or avoid using the same initializer instance more than once.\n",
            "  warnings.warn(\n"
          ]
        }
      ]
    },
    {
      "cell_type": "markdown",
      "source": [
        "Train the CGAN model with original dataset"
      ],
      "metadata": {
        "id": "HFv_3hOwO_Yu"
      }
    },
    {
      "cell_type": "code",
      "source": [
        "# Reshape y_train\n",
        "y_train_reshaped = y_train.values.reshape(-1, 1)\n",
        "\n",
        "# Get indices for positive and negative classes\n",
        "pos_index = np.where(y_train_reshaped == 1)[0]\n",
        "neg_index = np.where(y_train_reshaped == 0)[0]\n",
        "\n",
        "# Assuming cgan.train() takes X_train, y_train_reshaped, pos_index, neg_index, and epochs as arguments\n",
        "cgan.train(X_train, y_train_reshaped, pos_index, neg_index, epochs=300)\n"
      ],
      "metadata": {
        "colab": {
          "base_uri": "https://localhost:8080/",
          "height": 1000
        },
        "id": "5mi4MaXqRlwi",
        "outputId": "973080ac-945f-49fb-db47-3c07d1cdc270"
      },
      "execution_count": null,
      "outputs": [
        {
          "output_type": "stream",
          "name": "stdout",
          "text": [
            "1/1 [==============================] - 0s 123ms/step\n",
            "1/1 [==============================] - 0s 21ms/step\n",
            "1/1 [==============================] - 0s 23ms/step\n",
            "1/1 [==============================] - 0s 23ms/step\n",
            "1/1 [==============================] - 0s 20ms/step\n",
            "1/1 [==============================] - 0s 20ms/step\n",
            "1/1 [==============================] - 0s 21ms/step\n",
            "1/1 [==============================] - 0s 21ms/step\n",
            "1/1 [==============================] - 0s 23ms/step\n",
            "1/1 [==============================] - 0s 20ms/step\n",
            "1/1 [==============================] - 0s 36ms/step\n",
            "1/1 [==============================] - 0s 37ms/step\n",
            "1/1 [==============================] - 0s 38ms/step\n",
            "1/1 [==============================] - 0s 30ms/step\n",
            "1/1 [==============================] - 0s 29ms/step\n",
            "1/1 [==============================] - 0s 28ms/step\n",
            "1/1 [==============================] - 0s 29ms/step\n",
            "1/1 [==============================] - 0s 35ms/step\n",
            "1/1 [==============================] - 0s 36ms/step\n",
            "1/1 [==============================] - 0s 46ms/step\n",
            "1/1 [==============================] - 0s 35ms/step\n",
            "1/1 [==============================] - 0s 35ms/step\n",
            "1/1 [==============================] - 0s 45ms/step\n",
            "1/1 [==============================] - 0s 36ms/step\n",
            "1/1 [==============================] - 0s 34ms/step\n",
            "1/1 [==============================] - 0s 42ms/step\n",
            "1/1 [==============================] - 0s 40ms/step\n",
            "1/1 [==============================] - 0s 27ms/step\n",
            "1/1 [==============================] - 0s 25ms/step\n",
            "1/1 [==============================] - 0s 29ms/step\n",
            "1/1 [==============================] - 0s 23ms/step\n",
            "1/1 [==============================] - 0s 28ms/step\n",
            "1/1 [==============================] - 0s 23ms/step\n",
            "1/1 [==============================] - 0s 22ms/step\n",
            "1/1 [==============================] - 0s 27ms/step\n",
            "1/1 [==============================] - 0s 31ms/step\n",
            "1/1 [==============================] - 0s 27ms/step\n",
            "1/1 [==============================] - 0s 24ms/step\n",
            "1/1 [==============================] - 0s 24ms/step\n",
            "1/1 [==============================] - 0s 36ms/step\n",
            "1/1 [==============================] - 0s 34ms/step\n",
            "1/1 [==============================] - 0s 35ms/step\n",
            "1/1 [==============================] - 0s 39ms/step\n",
            "1/1 [==============================] - 0s 34ms/step\n",
            "1/1 [==============================] - 0s 43ms/step\n",
            "1/1 [==============================] - 0s 37ms/step\n",
            "1/1 [==============================] - 0s 33ms/step\n",
            "1/1 [==============================] - 0s 36ms/step\n",
            "1/1 [==============================] - 0s 33ms/step\n",
            "1/1 [==============================] - 0s 33ms/step\n",
            "1/1 [==============================] - 0s 46ms/step\n",
            "1/1 [==============================] - 0s 36ms/step\n",
            "1/1 [==============================] - 0s 38ms/step\n",
            "1/1 [==============================] - 0s 49ms/step\n",
            "1/1 [==============================] - 0s 39ms/step\n",
            "1/1 [==============================] - 0s 42ms/step\n",
            "1/1 [==============================] - 0s 36ms/step\n",
            "1/1 [==============================] - 0s 40ms/step\n",
            "1/1 [==============================] - 0s 26ms/step\n",
            "1/1 [==============================] - 0s 26ms/step\n",
            "1/1 [==============================] - 0s 26ms/step\n",
            "1/1 [==============================] - 0s 36ms/step\n",
            "1/1 [==============================] - 0s 25ms/step\n",
            "1/1 [==============================] - 0s 24ms/step\n",
            "1/1 [==============================] - 0s 22ms/step\n",
            "1/1 [==============================] - 0s 23ms/step\n",
            "1/1 [==============================] - 0s 22ms/step\n",
            "1/1 [==============================] - 0s 23ms/step\n",
            "1/1 [==============================] - 0s 24ms/step\n",
            "1/1 [==============================] - 0s 31ms/step\n",
            "1/1 [==============================] - 0s 24ms/step\n",
            "1/1 [==============================] - 0s 29ms/step\n",
            "1/1 [==============================] - 0s 25ms/step\n",
            "1/1 [==============================] - 0s 26ms/step\n",
            "1/1 [==============================] - 0s 23ms/step\n",
            "1/1 [==============================] - 0s 25ms/step\n",
            "1/1 [==============================] - 0s 22ms/step\n",
            "1/1 [==============================] - 0s 34ms/step\n",
            "1/1 [==============================] - 0s 23ms/step\n",
            "1/1 [==============================] - 0s 23ms/step\n",
            "1/1 [==============================] - 0s 26ms/step\n",
            "1/1 [==============================] - 0s 24ms/step\n",
            "1/1 [==============================] - 0s 24ms/step\n",
            "1/1 [==============================] - 0s 22ms/step\n",
            "1/1 [==============================] - 0s 22ms/step\n",
            "1/1 [==============================] - 0s 26ms/step\n",
            "1/1 [==============================] - 0s 26ms/step\n",
            "1/1 [==============================] - 0s 26ms/step\n",
            "1/1 [==============================] - 0s 25ms/step\n",
            "1/1 [==============================] - 0s 25ms/step\n",
            "1/1 [==============================] - 0s 24ms/step\n",
            "1/1 [==============================] - 0s 25ms/step\n",
            "1/1 [==============================] - 0s 24ms/step\n",
            "1/1 [==============================] - 0s 30ms/step\n",
            "1/1 [==============================] - 0s 22ms/step\n",
            "1/1 [==============================] - 0s 25ms/step\n",
            "1/1 [==============================] - 0s 26ms/step\n",
            "1/1 [==============================] - 0s 23ms/step\n",
            "1/1 [==============================] - 0s 25ms/step\n",
            "1/1 [==============================] - 0s 24ms/step\n",
            "[99/300]\tLoss_D: 0.6718\tLoss_G: 0.6785\n",
            "1/1 [==============================] - 0s 23ms/step\n",
            "1/1 [==============================] - 0s 22ms/step\n",
            "1/1 [==============================] - 0s 24ms/step\n",
            "1/1 [==============================] - 0s 21ms/step\n",
            "1/1 [==============================] - 0s 28ms/step\n",
            "1/1 [==============================] - 0s 26ms/step\n",
            "1/1 [==============================] - 0s 24ms/step\n",
            "1/1 [==============================] - 0s 24ms/step\n",
            "1/1 [==============================] - 0s 27ms/step\n",
            "1/1 [==============================] - 0s 25ms/step\n",
            "1/1 [==============================] - 0s 23ms/step\n",
            "1/1 [==============================] - 0s 27ms/step\n",
            "1/1 [==============================] - 0s 23ms/step\n",
            "1/1 [==============================] - 0s 26ms/step\n",
            "1/1 [==============================] - 0s 23ms/step\n",
            "1/1 [==============================] - 0s 24ms/step\n",
            "1/1 [==============================] - 0s 24ms/step\n",
            "1/1 [==============================] - 0s 24ms/step\n",
            "1/1 [==============================] - 0s 24ms/step\n",
            "1/1 [==============================] - 0s 23ms/step\n",
            "1/1 [==============================] - 0s 21ms/step\n",
            "1/1 [==============================] - 0s 21ms/step\n",
            "1/1 [==============================] - 0s 23ms/step\n",
            "1/1 [==============================] - 0s 23ms/step\n",
            "1/1 [==============================] - 0s 24ms/step\n",
            "1/1 [==============================] - 0s 24ms/step\n",
            "1/1 [==============================] - 0s 22ms/step\n",
            "1/1 [==============================] - 0s 22ms/step\n",
            "1/1 [==============================] - 0s 25ms/step\n",
            "1/1 [==============================] - 0s 21ms/step\n",
            "1/1 [==============================] - 0s 22ms/step\n",
            "1/1 [==============================] - 0s 25ms/step\n",
            "1/1 [==============================] - 0s 24ms/step\n",
            "1/1 [==============================] - 0s 29ms/step\n",
            "1/1 [==============================] - 0s 25ms/step\n",
            "1/1 [==============================] - 0s 37ms/step\n",
            "1/1 [==============================] - 0s 33ms/step\n",
            "1/1 [==============================] - 0s 31ms/step\n",
            "1/1 [==============================] - 0s 31ms/step\n",
            "1/1 [==============================] - 0s 46ms/step\n",
            "1/1 [==============================] - 0s 39ms/step\n",
            "1/1 [==============================] - 0s 33ms/step\n",
            "1/1 [==============================] - 0s 39ms/step\n",
            "1/1 [==============================] - 0s 34ms/step\n",
            "1/1 [==============================] - 0s 32ms/step\n",
            "1/1 [==============================] - 0s 35ms/step\n",
            "1/1 [==============================] - 0s 36ms/step\n",
            "1/1 [==============================] - 0s 41ms/step\n",
            "1/1 [==============================] - 0s 32ms/step\n",
            "1/1 [==============================] - 0s 31ms/step\n",
            "1/1 [==============================] - 0s 38ms/step\n",
            "1/1 [==============================] - 0s 45ms/step\n",
            "1/1 [==============================] - 0s 36ms/step\n",
            "1/1 [==============================] - 0s 36ms/step\n",
            "1/1 [==============================] - 0s 34ms/step\n",
            "1/1 [==============================] - 0s 25ms/step\n",
            "1/1 [==============================] - 0s 26ms/step\n",
            "1/1 [==============================] - 0s 23ms/step\n",
            "1/1 [==============================] - 0s 21ms/step\n",
            "1/1 [==============================] - 0s 25ms/step\n",
            "1/1 [==============================] - 0s 23ms/step\n",
            "1/1 [==============================] - 0s 27ms/step\n",
            "1/1 [==============================] - 0s 22ms/step\n",
            "1/1 [==============================] - 0s 22ms/step\n",
            "1/1 [==============================] - 0s 28ms/step\n",
            "1/1 [==============================] - 0s 22ms/step\n",
            "1/1 [==============================] - 0s 24ms/step\n",
            "1/1 [==============================] - 0s 26ms/step\n",
            "1/1 [==============================] - 0s 24ms/step\n",
            "1/1 [==============================] - 0s 26ms/step\n",
            "1/1 [==============================] - 0s 27ms/step\n",
            "1/1 [==============================] - 0s 23ms/step\n",
            "1/1 [==============================] - 0s 22ms/step\n",
            "1/1 [==============================] - 0s 23ms/step\n",
            "1/1 [==============================] - 0s 21ms/step\n",
            "1/1 [==============================] - 0s 21ms/step\n",
            "1/1 [==============================] - 0s 22ms/step\n",
            "1/1 [==============================] - 0s 23ms/step\n",
            "1/1 [==============================] - 0s 24ms/step\n",
            "1/1 [==============================] - 0s 27ms/step\n",
            "1/1 [==============================] - 0s 23ms/step\n",
            "1/1 [==============================] - 0s 23ms/step\n",
            "1/1 [==============================] - 0s 22ms/step\n",
            "1/1 [==============================] - 0s 26ms/step\n",
            "1/1 [==============================] - 0s 21ms/step\n",
            "1/1 [==============================] - 0s 23ms/step\n",
            "1/1 [==============================] - 0s 23ms/step\n",
            "1/1 [==============================] - 0s 25ms/step\n",
            "1/1 [==============================] - 0s 23ms/step\n",
            "1/1 [==============================] - 0s 23ms/step\n",
            "1/1 [==============================] - 0s 24ms/step\n",
            "1/1 [==============================] - 0s 25ms/step\n",
            "1/1 [==============================] - 0s 21ms/step\n",
            "1/1 [==============================] - 0s 22ms/step\n",
            "1/1 [==============================] - 0s 27ms/step\n",
            "1/1 [==============================] - 0s 23ms/step\n",
            "1/1 [==============================] - 0s 33ms/step\n",
            "1/1 [==============================] - 0s 23ms/step\n",
            "1/1 [==============================] - 0s 23ms/step\n",
            "1/1 [==============================] - 0s 28ms/step\n",
            "[199/300]\tLoss_D: 0.6609\tLoss_G: 0.7249\n",
            "1/1 [==============================] - 0s 23ms/step\n",
            "1/1 [==============================] - 0s 22ms/step\n",
            "1/1 [==============================] - 0s 22ms/step\n",
            "1/1 [==============================] - 0s 21ms/step\n",
            "1/1 [==============================] - 0s 22ms/step\n",
            "1/1 [==============================] - 0s 23ms/step\n",
            "1/1 [==============================] - 0s 22ms/step\n",
            "1/1 [==============================] - 0s 22ms/step\n",
            "1/1 [==============================] - 0s 23ms/step\n",
            "1/1 [==============================] - 0s 22ms/step\n",
            "1/1 [==============================] - 0s 22ms/step\n",
            "1/1 [==============================] - 0s 23ms/step\n",
            "1/1 [==============================] - 0s 25ms/step\n",
            "1/1 [==============================] - 0s 24ms/step\n",
            "1/1 [==============================] - 0s 23ms/step\n",
            "1/1 [==============================] - 0s 22ms/step\n",
            "1/1 [==============================] - 0s 22ms/step\n",
            "1/1 [==============================] - 0s 26ms/step\n",
            "1/1 [==============================] - 0s 23ms/step\n",
            "1/1 [==============================] - 0s 23ms/step\n",
            "1/1 [==============================] - 0s 22ms/step\n",
            "1/1 [==============================] - 0s 29ms/step\n",
            "1/1 [==============================] - 0s 22ms/step\n",
            "1/1 [==============================] - 0s 23ms/step\n",
            "1/1 [==============================] - 0s 23ms/step\n",
            "1/1 [==============================] - 0s 23ms/step\n",
            "1/1 [==============================] - 0s 22ms/step\n",
            "1/1 [==============================] - 0s 24ms/step\n",
            "1/1 [==============================] - 0s 22ms/step\n",
            "1/1 [==============================] - 0s 25ms/step\n",
            "1/1 [==============================] - 0s 21ms/step\n",
            "1/1 [==============================] - 0s 22ms/step\n",
            "1/1 [==============================] - 0s 23ms/step\n",
            "1/1 [==============================] - 0s 37ms/step\n",
            "1/1 [==============================] - 0s 37ms/step\n",
            "1/1 [==============================] - 0s 34ms/step\n",
            "1/1 [==============================] - 0s 30ms/step\n",
            "1/1 [==============================] - 0s 30ms/step\n",
            "1/1 [==============================] - 0s 31ms/step\n",
            "1/1 [==============================] - 0s 36ms/step\n",
            "1/1 [==============================] - 0s 38ms/step\n",
            "1/1 [==============================] - 0s 51ms/step\n",
            "1/1 [==============================] - 0s 31ms/step\n",
            "1/1 [==============================] - 0s 32ms/step\n",
            "1/1 [==============================] - 0s 31ms/step\n",
            "1/1 [==============================] - 0s 31ms/step\n",
            "1/1 [==============================] - 0s 30ms/step\n",
            "1/1 [==============================] - 0s 37ms/step\n",
            "1/1 [==============================] - 0s 40ms/step\n",
            "1/1 [==============================] - 0s 32ms/step\n",
            "1/1 [==============================] - 0s 38ms/step\n",
            "1/1 [==============================] - 0s 41ms/step\n",
            "1/1 [==============================] - 0s 38ms/step\n",
            "1/1 [==============================] - 0s 22ms/step\n",
            "1/1 [==============================] - 0s 22ms/step\n",
            "1/1 [==============================] - 0s 21ms/step\n",
            "1/1 [==============================] - 0s 21ms/step\n",
            "1/1 [==============================] - 0s 22ms/step\n",
            "1/1 [==============================] - 0s 27ms/step\n",
            "1/1 [==============================] - 0s 24ms/step\n",
            "1/1 [==============================] - 0s 23ms/step\n",
            "1/1 [==============================] - 0s 24ms/step\n",
            "1/1 [==============================] - 0s 24ms/step\n",
            "1/1 [==============================] - 0s 22ms/step\n",
            "1/1 [==============================] - 0s 24ms/step\n",
            "1/1 [==============================] - 0s 23ms/step\n",
            "1/1 [==============================] - 0s 22ms/step\n",
            "1/1 [==============================] - 0s 21ms/step\n",
            "1/1 [==============================] - 0s 34ms/step\n",
            "1/1 [==============================] - 0s 25ms/step\n",
            "1/1 [==============================] - 0s 25ms/step\n",
            "1/1 [==============================] - 0s 23ms/step\n",
            "1/1 [==============================] - 0s 23ms/step\n",
            "1/1 [==============================] - 0s 23ms/step\n",
            "1/1 [==============================] - 0s 21ms/step\n",
            "1/1 [==============================] - 0s 21ms/step\n",
            "1/1 [==============================] - 0s 22ms/step\n",
            "1/1 [==============================] - 0s 25ms/step\n",
            "1/1 [==============================] - 0s 22ms/step\n",
            "1/1 [==============================] - 0s 23ms/step\n",
            "1/1 [==============================] - 0s 25ms/step\n",
            "1/1 [==============================] - 0s 27ms/step\n",
            "1/1 [==============================] - 0s 24ms/step\n",
            "1/1 [==============================] - 0s 24ms/step\n",
            "1/1 [==============================] - 0s 21ms/step\n",
            "1/1 [==============================] - 0s 23ms/step\n",
            "1/1 [==============================] - 0s 23ms/step\n",
            "1/1 [==============================] - 0s 24ms/step\n",
            "1/1 [==============================] - 0s 22ms/step\n",
            "1/1 [==============================] - 0s 22ms/step\n",
            "1/1 [==============================] - 0s 21ms/step\n",
            "1/1 [==============================] - 0s 22ms/step\n",
            "1/1 [==============================] - 0s 20ms/step\n",
            "1/1 [==============================] - 0s 22ms/step\n",
            "1/1 [==============================] - 0s 25ms/step\n",
            "1/1 [==============================] - 0s 22ms/step\n",
            "1/1 [==============================] - 0s 24ms/step\n",
            "1/1 [==============================] - 0s 24ms/step\n",
            "1/1 [==============================] - 0s 22ms/step\n",
            "1/1 [==============================] - 0s 26ms/step\n",
            "[299/300]\tLoss_D: 0.6492\tLoss_G: 0.7631\n"
          ]
        },
        {
          "output_type": "display_data",
          "data": {
            "text/plain": [
              "<Figure size 1000x500 with 1 Axes>"
            ],
            "image/png": "[encoded data removed]"
          },
          "metadata": {}
        }
      ]
    },
    {
      "cell_type": "markdown",
      "source": [
        "Generate synthetic data"
      ],
      "metadata": {
        "id": "1cXcV3m7PElY"
      }
    },
    {
      "cell_type": "code",
      "source": [
        "# Number of instances with age under 60\n",
        "num_instances_under_60 = count_under_60\n",
        "\n",
        "# Number of instances with age above 60\n",
        "num_instances_above_60 = count_above_60\n",
        "\n",
        "# Generate noise for the generator\n",
        "noise1 = np.random.normal(0, 1, (num_instances_under_60, 115))\n",
        "noise2 = np.random.normal(0, 1, (num_instances_above_60, 115))\n",
        "\n",
        "# Generate labels for age groups\n",
        "sampled_labels_under_60 = np.zeros(num_instances_under_60).reshape(-1, 1)  # Label 0 for age under 60\n",
        "sampled_labels_above_60 = np.ones(num_instances_above_60).reshape(-1, 1)   # Label 1 for age above 60\n",
        "\n",
        "# Generate samples using the cGAN generator\n",
        "gen_samples1 = cgan.generator.predict([noise1, sampled_labels_under_60])\n",
        "gen_samples2 = cgan.generator.predict([noise2, sampled_labels_above_60])\n",
        "\n",
        "#print(df.head())\n",
        "df.drop('age',1,inplace=True)\n",
        "df.drop('above_60',1,inplace=True)\n",
        "\n",
        "# Convert generated samples to a DataFrame\n",
        "gen_df1 = pd.DataFrame(data=gen_samples1, columns=df.columns)\n",
        "gen_df2 = pd.DataFrame(data=gen_samples2, columns=df.columns)"
      ],
      "metadata": {
        "colab": {
          "base_uri": "https://localhost:8080/"
        },
        "id": "aOrU4szs8p9j",
        "outputId": "16f0b89e-19d6-4e80-d5ce-4bd2dd135478"
      },
      "execution_count": null,
      "outputs": [
        {
          "output_type": "stream",
          "name": "stdout",
          "text": [
            "985/985 [==============================] - 2s 2ms/step\n",
            "609/609 [==============================] - 2s 3ms/step\n"
          ]
        },
        {
          "output_type": "stream",
          "name": "stderr",
          "text": [
            "<ipython-input-75-20737c3799ca>:20: FutureWarning: In a future version of pandas all arguments of DataFrame.drop except for the argument 'labels' will be keyword-only.\n",
            "  df.drop('age',1,inplace=True)\n",
            "<ipython-input-75-20737c3799ca>:21: FutureWarning: In a future version of pandas all arguments of DataFrame.drop except for the argument 'labels' will be keyword-only.\n",
            "  df.drop('above_60',1,inplace=True)\n"
          ]
        }
      ]
    },
    {
      "cell_type": "markdown",
      "source": [
        "Create new dataset with generated synthetic data"
      ],
      "metadata": {
        "id": "Vg8ZaDZDPJ4l"
      }
    },
    {
      "cell_type": "code",
      "source": [
        "gen_df1['age']=0\n",
        "gen_df2['age']=1\n",
        "\n",
        "df_gan = pd.concat([gen_df1, gen_df2], ignore_index=True, sort=False)\n",
        "df_gan = df_gan.sample(frac=1).reset_index(drop=True)\n",
        "\n",
        "X_train_2 = df_gan.drop('age',1)\n",
        "y_train_2 = df_gan['age'].values\n",
        "\n",
        "print(X_train_2.shape)"
      ],
      "metadata": {
        "colab": {
          "base_uri": "https://localhost:8080/"
        },
        "id": "eogONnLO-yDf",
        "outputId": "90aa19ab-ff30-45bb-a711-526f33096701"
      },
      "execution_count": null,
      "outputs": [
        {
          "output_type": "stream",
          "name": "stdout",
          "text": [
            "(51000, 16)\n"
          ]
        },
        {
          "output_type": "stream",
          "name": "stderr",
          "text": [
            "<ipython-input-76-63d7bafbc106>:7: FutureWarning: In a future version of pandas all arguments of DataFrame.drop except for the argument 'labels' will be keyword-only.\n",
            "  X_train_2 = df_gan.drop('age',1)\n"
          ]
        }
      ]
    },
    {
      "cell_type": "markdown",
      "source": [
        "Train and test on the new CGAN generated dataset"
      ],
      "metadata": {
        "id": "WN2VRMtFPNyG"
      }
    },
    {
      "cell_type": "code",
      "source": [
        "#train\n",
        "lgb_classifier.fit(X_train_2, y_train_2)\n",
        "\n",
        "#test\n",
        "y_pred = lgb_classifier.predict(X_test)\n",
        "report_2 = classification_report(y_test, y_pred)\n",
        "\n",
        "a3 = accuracy_score(y_test, y_pred)\n",
        "\n",
        "print(report_2)"
      ],
      "metadata": {
        "colab": {
          "base_uri": "https://localhost:8080/"
        },
        "id": "zCBVhLWOIFtC",
        "outputId": "2bd74a43-7026-4181-dce5-facb9010a36f"
      },
      "execution_count": null,
      "outputs": [
        {
          "output_type": "stream",
          "name": "stdout",
          "text": [
            "[LightGBM] [Warning] feature_fraction is set=0.35, colsample_bytree=1.0 will be ignored. Current value: feature_fraction=0.35\n",
            "[LightGBM] [Warning] feature_fraction is set=0.35, colsample_bytree=1.0 will be ignored. Current value: feature_fraction=0.35\n",
            "[LightGBM] [Info] Number of positive: 19486, number of negative: 31514\n",
            "[LightGBM] [Info] Auto-choosing col-wise multi-threading, the overhead of testing was 0.011810 seconds.\n",
            "You can set `force_col_wise=true` to remove the overhead.\n",
            "[LightGBM] [Info] Total Bins 4080\n",
            "[LightGBM] [Info] Number of data points in the train set: 51000, number of used features: 16\n",
            "[LightGBM] [Info] [binary:BoostFromScore]: pavg=0.382078 -> initscore=-0.480736\n",
            "[LightGBM] [Info] Start training from score -0.480736\n",
            "[LightGBM] [Warning] feature_fraction is set=0.35, colsample_bytree=1.0 will be ignored. Current value: feature_fraction=0.35\n",
            "              precision    recall  f1-score   support\n",
            "\n",
            "           0       0.64      0.63      0.63      9779\n",
            "           1       0.36      0.37      0.37      5521\n",
            "\n",
            "    accuracy                           0.54     15300\n",
            "   macro avg       0.50      0.50      0.50     15300\n",
            "weighted avg       0.54      0.54      0.54     15300\n",
            "\n"
          ]
        }
      ]
    },
    {
      "cell_type": "markdown",
      "source": [
        "Poison the synthetic dataset"
      ],
      "metadata": {
        "id": "pAdMRYVfPUUZ"
      }
    },
    {
      "cell_type": "code",
      "source": [
        "# Step 3: Generate and add malicious data points to the training set\n",
        "# Example: Add random noise to a subset of the training data\n",
        "num_poisoned_samples = 25  # Number of malicious data points to add\n",
        "num_features = X_train_2.shape[1]\n",
        "X_train_2_array = X_train_2.values\n",
        "\n",
        "X_poisoned = X_train_2_array.copy()\n",
        "\n",
        "print(\"Shape of X_poisoned:\", X_poisoned.shape)\n",
        "#print(\"Head of X_poisoned:\", X_poisoned.head())\n",
        "\n",
        "print(\"Length of X_poisoned:\", len(X_poisoned))\n",
        "\n",
        "for i in range(num_poisoned_samples):\n",
        "    idx = np.random.randint(0, len(X_poisoned))\n",
        "    noise = np.random.normal(0, 0.1, num_features)  # Random Gaussian noise\n",
        "    X_poisoned[idx] += noise\n",
        "\n",
        "# Step 4: Generate corresponding labels for the malicious data points\n",
        "y_poisoned = np.ones(num_poisoned_samples)  # Assuming all added data points are malicious (label 1)\n",
        "\n",
        "# Step 5: Retrain the model on the poisoned training set\n",
        "X_train_poisoned = np.concatenate([X_train_2, X_poisoned])\n",
        "y_train_poisoned = np.concatenate([y_train_2.reshape(-1, 1), np.ones((len(X_poisoned), 1))])\n"
      ],
      "metadata": {
        "colab": {
          "base_uri": "https://localhost:8080/"
        },
        "id": "bQ44g9KQ8d39",
        "outputId": "fabca0f5-8923-46a9-ca80-859881e54cce"
      },
      "execution_count": null,
      "outputs": [
        {
          "output_type": "stream",
          "name": "stdout",
          "text": [
            "Shape of X_poisoned: (51000, 16)\n",
            "Length of X_poisoned: 51000\n"
          ]
        }
      ]
    },
    {
      "cell_type": "markdown",
      "source": [
        "Train and test on the posioned CGAN generated dataset"
      ],
      "metadata": {
        "id": "lDuTvHbkQFeO"
      }
    },
    {
      "cell_type": "code",
      "source": [
        "# Train the model\n",
        "lgb_2.fit(X_train_poisoned, y_train_poisoned)\n",
        "\n",
        "# Step 6: Evaluate the poisoned model on the clean test set\n",
        "y_pred_poisoned = lgb_2.predict(X_test)\n",
        "report_poisoned2 = classification_report(y_test, y_pred_poisoned)\n",
        "a4 = accuracy_score(y_test, y_pred_poisoned)\n",
        "\n",
        "print(\"Report on test set after data poisoning the GAN dataset:\")\n",
        "print(report_poisoned2)"
      ],
      "metadata": {
        "colab": {
          "base_uri": "https://localhost:8080/"
        },
        "id": "kwGmoYkyPnRO",
        "outputId": "36693255-6a69-4843-b1c4-d922ded4f02e"
      },
      "execution_count": null,
      "outputs": [
        {
          "output_type": "stream",
          "name": "stdout",
          "text": [
            "[LightGBM] [Warning] feature_fraction is set=0.35, colsample_bytree=1.0 will be ignored. Current value: feature_fraction=0.35\n"
          ]
        },
        {
          "output_type": "stream",
          "name": "stderr",
          "text": [
            "/usr/local/lib/python3.10/dist-packages/sklearn/preprocessing/_label.py:99: DataConversionWarning: A column-vector y was passed when a 1d array was expected. Please change the shape of y to (n_samples, ), for example using ravel().\n",
            "  y = column_or_1d(y, warn=True)\n",
            "/usr/local/lib/python3.10/dist-packages/sklearn/preprocessing/_label.py:134: DataConversionWarning: A column-vector y was passed when a 1d array was expected. Please change the shape of y to (n_samples, ), for example using ravel().\n",
            "  y = column_or_1d(y, dtype=self.classes_.dtype, warn=True)\n"
          ]
        },
        {
          "output_type": "stream",
          "name": "stdout",
          "text": [
            "[LightGBM] [Warning] feature_fraction is set=0.35, colsample_bytree=1.0 will be ignored. Current value: feature_fraction=0.35\n",
            "[LightGBM] [Info] Number of positive: 70486, number of negative: 31514\n",
            "[LightGBM] [Info] Auto-choosing col-wise multi-threading, the overhead of testing was 0.023449 seconds.\n",
            "You can set `force_col_wise=true` to remove the overhead.\n",
            "[LightGBM] [Info] Total Bins 4080\n",
            "[LightGBM] [Info] Number of data points in the train set: 102000, number of used features: 16\n",
            "[LightGBM] [Info] [binary:BoostFromScore]: pavg=0.691039 -> initscore=0.804982\n",
            "[LightGBM] [Info] Start training from score 0.804982\n",
            "[LightGBM] [Warning] feature_fraction is set=0.35, colsample_bytree=1.0 will be ignored. Current value: feature_fraction=0.35\n",
            "Report on test set after data poisoning the GAN dataset:\n",
            "              precision    recall  f1-score   support\n",
            "\n",
            "           0       0.64      0.06      0.11      9779\n",
            "           1       0.36      0.94      0.52      5521\n",
            "\n",
            "    accuracy                           0.38     15300\n",
            "   macro avg       0.50      0.50      0.32     15300\n",
            "weighted avg       0.54      0.38      0.26     15300\n",
            "\n"
          ]
        }
      ]
    },
    {
      "cell_type": "markdown",
      "source": [
        "Final compilation of all results"
      ],
      "metadata": {
        "id": "33Bx-M08QJHZ"
      }
    },
    {
      "cell_type": "code",
      "source": [
        "from tabulate import tabulate\n",
        "\n",
        "labels = ['Normal Dataset', 'Poisoned Normal Dataset', 'GAN Dataset', 'GAN-Generated Poisoned Dataset']\n",
        "accuracies = [a1,a2,a3,a4]\n",
        "\n",
        "# Data for the table\n",
        "data = {'Scenario': labels, 'Accuracy': accuracies}\n",
        "\n",
        "# Print the table\n",
        "print(tabulate(data, headers='keys', tablefmt='fancy_grid'))"
      ],
      "metadata": {
        "colab": {
          "base_uri": "https://localhost:8080/"
        },
        "id": "TzKU9unS9om9",
        "outputId": "35f0cc33-2e79-480c-9ac2-43c654bbef00"
      },
      "execution_count": null,
      "outputs": [
        {
          "output_type": "stream",
          "name": "stdout",
          "text": [
            "╒════════════════════════════════╤════════════╕\n",
            "│ Scenario                       │   Accuracy │\n",
            "╞════════════════════════════════╪════════════╡\n",
            "│ Normal Dataset                 │   0.63915  │\n",
            "├────────────────────────────────┼────────────┤\n",
            "│ Poisoned Normal Dataset        │   0.36085  │\n",
            "├────────────────────────────────┼────────────┤\n",
            "│ GAN Dataset                    │   0.536471 │\n",
            "├────────────────────────────────┼────────────┤\n",
            "│ GAN-Generated Poisoned Dataset │   0.378366 │\n",
            "╘════════════════════════════════╧════════════╛\n"
          ]
        }
      ]
    }
  ]
}